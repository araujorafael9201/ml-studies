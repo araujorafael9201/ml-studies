{
  "nbformat": 4,
  "nbformat_minor": 0,
  "metadata": {
    "colab": {
      "provenance": []
    },
    "kernelspec": {
      "name": "python3",
      "display_name": "Python 3"
    },
    "language_info": {
      "name": "python"
    }
  },
  "cells": [
    {
      "cell_type": "code",
      "execution_count": 16,
      "metadata": {
        "id": "2USxcv-0cSpX"
      },
      "outputs": [],
      "source": [
        "!pip install torch"
      ]
    },
    {
      "cell_type": "code",
      "source": [
        "import torch\n",
        "import torchvision.transforms as T\n",
        "from PIL import Image"
      ],
      "metadata": {
        "id": "Yu7qE8DTeYci"
      },
      "execution_count": 4,
      "outputs": []
    },
    {
      "cell_type": "code",
      "source": [
        "img = Image.open(\"./image.jpg\")\n",
        "img = img.resize((500, 500))\n",
        "img = T.ToTensor()(img)\n",
        "img = img.unsqueeze(0)"
      ],
      "metadata": {
        "id": "xPbevvhfesS1"
      },
      "execution_count": 5,
      "outputs": []
    },
    {
      "cell_type": "code",
      "source": [
        "output_channels = 10\n",
        "\n",
        "conv = torch.nn.Conv2d(3, output_channels, 20, padding=10)\n",
        "img_cp = conv(img)\n",
        "img_cp = img_cp.squeeze(0)\n",
        "\n",
        "for i in range(output_channels):\n",
        "  output = T.ToPILImage()(img_cp[i - 1])\n",
        "  output.save(f\"./output/{i}.jpg\")"
      ],
      "metadata": {
        "id": "1nhJQHy5fKP7"
      },
      "execution_count": 7,
      "outputs": []
    }
  ]
}