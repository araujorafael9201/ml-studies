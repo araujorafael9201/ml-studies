{
	"cells": [
		{
			"cell_type": "markdown",
			"metadata": {
				"id": "n8Zf2G4heHHp"
			},
			"source": [
				"## Based on the [Deep Learning for Coders 2022](https://youtube.com/playlist?list=PLfYUBJiXbdtSvpQjSnJJ_PmDQB_VyT5iU) course and the book available on https://github.com/fastai/fastbook",
				"## Live demo at https://rafaelaraujo13-chess-checkers.hf.space/"
			]
		},
		{
			"cell_type": "code",
			"execution_count": 2,
			"metadata": {
				"id": "xocjAK_ecQwx"
			},
			"outputs": [],
			"source": [
				"from fastai.vision.all import *\n",
				"from duckduckgo_search import ddg_images"
			]
		},
		{
			"cell_type": "code",
			"execution_count": 3,
			"metadata": {
				"id": "CZhFg6TpdDOR"
			},
			"outputs": [],
			"source": [
				"def search_images(term, max_images=30):\n",
				"  return L(ddg_images(term, max_results = max_images)).itemgot('image')"
			]
		},
		{
			"cell_type": "code",
			"execution_count": null,
			"metadata": {
				"id": "-wCLLSPTkP67"
			},
			"outputs": [],
			"source": [
				"path = Path('images')\n",
				"search = 'chess', 'checkers'\n",
				"\n",
				"for s in search:\n",
				"  dest = (path/s)\n",
				"  dest.mkdir(exist_ok=True, parents=True)\n",
				"  download_images(dest, urls=search_images(s, max_images=30))\n",
				"  resize_images(dest, max_size=500, dest=dest)\n",
				"\n",
				"failed = verify_images(get_image_files(path))\n",
				"failed.map(Path.unlink)"
			]
		},
		{
			"cell_type": "code",
			"execution_count": 5,
			"metadata": {
				"id": "9yNn6-_FkroR"
			},
			"outputs": [],
			"source": [
				"dls = DataBlock(\n",
				"    blocks=(ImageBlock, CategoryBlock),\n",
				"    get_items=get_image_files,\n",
				"    splitter=RandomSplitter(valid_pct=0.2, seed=1),\n",
				"    get_y=parent_label,\n",
				"    item_tfms=[Resize(192, method='squish')]\n",
				").dataloaders(path, bs=10)"
			]
		},
		{
			"cell_type": "code",
			"execution_count": null,
			"metadata": {
				"id": "x3-HO3HFmsWW"
			},
			"outputs": [],
			"source": [
				"learner = vision_learner(dls, resnet34, metrics=error_rate)\n",
				"learner.fine_tune(3)"
			]
		},
		{
			"cell_type": "code",
			"execution_count": 7,
			"metadata": {
				"id": "_685IVcxcBhH"
			},
			"outputs": [],
			"source": [
				"learner.export('model.pkl')"
			]
		}
	],
	"metadata": {
		"colab": {
			"provenance": []
		},
		"kernelspec": {
			"display_name": "Python 3",
			"name": "python3"
		},
		"language_info": {
			"codemirror_mode": {
				"name": "ipython",
				"version": 3
			},
			"file_extension": ".py",
			"mimetype": "text/x-python",
			"name": "python",
			"nbconvert_exporter": "python",
			"pygments_lexer": "ipython3",
			"version": "3.11.3"
		}
	},
	"nbformat": 4,
	"nbformat_minor": 0
}
